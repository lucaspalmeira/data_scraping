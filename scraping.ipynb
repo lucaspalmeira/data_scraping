{
 "cells": [
  {
   "cell_type": "markdown",
   "metadata": {},
   "source": [
    "# Data Scraping\n",
    "\n",
    "#### The data here is collected and saved in a csv file. In addition, files containing the 10 best positions of each peptide are downloaded."
   ]
  },
  {
   "cell_type": "code",
   "execution_count": 1,
   "metadata": {},
   "outputs": [],
   "source": [
    "from selenium import webdriver\n",
    "import pandas as pd\n",
    "import sqlite3\n",
    "import time\n",
    "import wget\n",
    "import os\n",
    "import glob"
   ]
  },
  {
   "cell_type": "code",
   "execution_count": 2,
   "metadata": {
    "scrolled": true
   },
   "outputs": [],
   "source": [
    "db = sqlite3.connect('scraping_dock.db')\n",
    "df = pd.read_sql_query('SELECT * FROM scraping', db)"
   ]
  },
  {
   "cell_type": "code",
   "execution_count": 3,
   "metadata": {},
   "outputs": [],
   "source": [
    "driver = webdriver.Firefox()"
   ]
  },
  {
   "cell_type": "code",
   "execution_count": 4,
   "metadata": {
    "scrolled": true
   },
   "outputs": [],
   "source": [
    "energies = []\n",
    "\n",
    "def collecting():\n",
    "    for link in df['Link']:\n",
    "        print('Collecting data...', link)\n",
    "\n",
    "        driver.get(link)\n",
    "        time.sleep(3)\n",
    "        element = driver.find_element_by_xpath('/html/body/center/table[3]/tbody/tr[2]/td[1]')\n",
    "        energies.append(element.text)\n",
    "        # Docking Score (1st model)\n",
    "\n",
    "        top10_models = link + 'top10_models.tar.gz'\n",
    "        wget.download(top10_models)\n",
    "        os.system('tar -xvzf top10_models.tar.gz')\n",
    "        os.system('rm top10_models.tar.gz')\n",
    "        # Download and extract files containing the 10 best positions of each peptide"
   ]
  },
  {
   "cell_type": "markdown",
   "metadata": {},
   "source": [
    "#### Results are kept on the server for two weeks."
   ]
  },
  {
   "cell_type": "code",
   "execution_count": 5,
   "metadata": {},
   "outputs": [
    {
     "name": "stdout",
     "output_type": "stream",
     "text": [
      "Collecting data... http://huanglab.phys.hust.edu.cn/hpepdock/data/616764dce14e2/\n",
      "Collecting data... http://huanglab.phys.hust.edu.cn/hpepdock/data/616764fdb255c/\n",
      "Collecting data... http://huanglab.phys.hust.edu.cn/hpepdock/data/6167651525d3b/\n",
      "Collecting data... http://huanglab.phys.hust.edu.cn/hpepdock/data/6167652ec8f20/\n",
      "Collecting data... http://huanglab.phys.hust.edu.cn/hpepdock/data/6167654922a2f/\n",
      "Collecting data... http://huanglab.phys.hust.edu.cn/hpepdock/data/616765629c522/\n",
      "Collecting data... http://huanglab.phys.hust.edu.cn/hpepdock/data/6167657c9f407/\n"
     ]
    }
   ],
   "source": [
    "collecting()"
   ]
  },
  {
   "cell_type": "code",
   "execution_count": 6,
   "metadata": {},
   "outputs": [],
   "source": [
    "driver.close()"
   ]
  },
  {
   "cell_type": "code",
   "execution_count": 7,
   "metadata": {},
   "outputs": [],
   "source": [
    "df['Energies'] = energies"
   ]
  },
  {
   "cell_type": "code",
   "execution_count": 8,
   "metadata": {},
   "outputs": [
    {
     "data": {
      "text/html": [
       "<div>\n",
       "<style scoped>\n",
       "    .dataframe tbody tr th:only-of-type {\n",
       "        vertical-align: middle;\n",
       "    }\n",
       "\n",
       "    .dataframe tbody tr th {\n",
       "        vertical-align: top;\n",
       "    }\n",
       "\n",
       "    .dataframe thead th {\n",
       "        text-align: right;\n",
       "    }\n",
       "</style>\n",
       "<table border=\"1\" class=\"dataframe\">\n",
       "  <thead>\n",
       "    <tr style=\"text-align: right;\">\n",
       "      <th></th>\n",
       "      <th>PepId</th>\n",
       "      <th>Jobname</th>\n",
       "      <th>Link</th>\n",
       "      <th>Energies</th>\n",
       "    </tr>\n",
       "  </thead>\n",
       "  <tbody>\n",
       "    <tr>\n",
       "      <th>0</th>\n",
       "      <td>pep3.B99990001.pdb</td>\n",
       "      <td>616764dce14e2</td>\n",
       "      <td>http://huanglab.phys.hust.edu.cn/hpepdock/data...</td>\n",
       "      <td>-106.358</td>\n",
       "    </tr>\n",
       "    <tr>\n",
       "      <th>1</th>\n",
       "      <td>pep2.B99990001.pdb</td>\n",
       "      <td>616764fdb255c</td>\n",
       "      <td>http://huanglab.phys.hust.edu.cn/hpepdock/data...</td>\n",
       "      <td>-109.440</td>\n",
       "    </tr>\n",
       "    <tr>\n",
       "      <th>2</th>\n",
       "      <td>pep6.B99990001.pdb</td>\n",
       "      <td>6167651525d3b</td>\n",
       "      <td>http://huanglab.phys.hust.edu.cn/hpepdock/data...</td>\n",
       "      <td>-70.167</td>\n",
       "    </tr>\n",
       "    <tr>\n",
       "      <th>3</th>\n",
       "      <td>pep4.B99990001.pdb</td>\n",
       "      <td>6167652ec8f20</td>\n",
       "      <td>http://huanglab.phys.hust.edu.cn/hpepdock/data...</td>\n",
       "      <td>-106.358</td>\n",
       "    </tr>\n",
       "    <tr>\n",
       "      <th>4</th>\n",
       "      <td>pep1.B99990001.pdb</td>\n",
       "      <td>6167654922a2f</td>\n",
       "      <td>http://huanglab.phys.hust.edu.cn/hpepdock/data...</td>\n",
       "      <td>-74.121</td>\n",
       "    </tr>\n",
       "    <tr>\n",
       "      <th>5</th>\n",
       "      <td>pep5.B99990001.pdb</td>\n",
       "      <td>616765629c522</td>\n",
       "      <td>http://huanglab.phys.hust.edu.cn/hpepdock/data...</td>\n",
       "      <td>-99.395</td>\n",
       "    </tr>\n",
       "    <tr>\n",
       "      <th>6</th>\n",
       "      <td>pep7.B99990001.pdb</td>\n",
       "      <td>6167657c9f407</td>\n",
       "      <td>http://huanglab.phys.hust.edu.cn/hpepdock/data...</td>\n",
       "      <td>-188.578</td>\n",
       "    </tr>\n",
       "  </tbody>\n",
       "</table>\n",
       "</div>"
      ],
      "text/plain": [
       "                PepId        Jobname  \\\n",
       "0  pep3.B99990001.pdb  616764dce14e2   \n",
       "1  pep2.B99990001.pdb  616764fdb255c   \n",
       "2  pep6.B99990001.pdb  6167651525d3b   \n",
       "3  pep4.B99990001.pdb  6167652ec8f20   \n",
       "4  pep1.B99990001.pdb  6167654922a2f   \n",
       "5  pep5.B99990001.pdb  616765629c522   \n",
       "6  pep7.B99990001.pdb  6167657c9f407   \n",
       "\n",
       "                                                Link  Energies  \n",
       "0  http://huanglab.phys.hust.edu.cn/hpepdock/data...  -106.358  \n",
       "1  http://huanglab.phys.hust.edu.cn/hpepdock/data...  -109.440  \n",
       "2  http://huanglab.phys.hust.edu.cn/hpepdock/data...   -70.167  \n",
       "3  http://huanglab.phys.hust.edu.cn/hpepdock/data...  -106.358  \n",
       "4  http://huanglab.phys.hust.edu.cn/hpepdock/data...   -74.121  \n",
       "5  http://huanglab.phys.hust.edu.cn/hpepdock/data...   -99.395  \n",
       "6  http://huanglab.phys.hust.edu.cn/hpepdock/data...  -188.578  "
      ]
     },
     "metadata": {},
     "output_type": "display_data"
    }
   ],
   "source": [
    "display(df)"
   ]
  },
  {
   "cell_type": "code",
   "execution_count": 9,
   "metadata": {},
   "outputs": [
    {
     "name": "stdout",
     "output_type": "stream",
     "text": [
      "\n",
      " CSV file containing the results was created successfully!\n"
     ]
    }
   ],
   "source": [
    "df.to_csv('results_scraping_dock.csv')\n",
    "print('\\n CSV file containing the results was created successfully!')"
   ]
  }
 ],
 "metadata": {
  "kernelspec": {
   "display_name": "Python 3",
   "language": "python",
   "name": "python3"
  },
  "language_info": {
   "codemirror_mode": {
    "name": "ipython",
    "version": 3
   },
   "file_extension": ".py",
   "mimetype": "text/x-python",
   "name": "python",
   "nbconvert_exporter": "python",
   "pygments_lexer": "ipython3",
   "version": "3.8.5"
  }
 },
 "nbformat": 4,
 "nbformat_minor": 4
}
